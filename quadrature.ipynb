{
 "cells": [
  {
   "cell_type": "markdown",
   "id": "78b28447-b729-46d5-aa42-30bff82cfca6",
   "metadata": {},
   "source": [
    "# Simpson’s quadrature"
   ]
  },
  {
   "cell_type": "markdown",
   "id": "6b924411-8585-40a6-a2f4-b3b84358aedb",
   "metadata": {},
   "source": [
    "\n",
    "Simpson’s quadrature is used for numerical evaluation of integrals, is as follows:\n",
    "$$    \n",
    "\\int\\limits_a^b f(x) \\, \\mathrm{d}x \\approx \n",
    "yout \\quad markdown \\quad code \\quad here + O(h^p),\n",
    "$$\n",
    "where $p$ is the order of accuracy of the quadrature (that we are going to determine),\n",
    "$$h = \\frac{b - a}{n-1}$$\n",
    "is the width of integration segments, and \n",
    "$$x_i = a + h \\, (i - 1), \\quad i = 1, \\ldots, n \\quad x_1 = a, \\; x_n = b$$\n",
    "are the positions of the nodes.\n",
    "\n",
    "Note that the number of nodes, $n$, is an odd number larger than 3."
   ]
  },
  {
   "cell_type": "code",
   "execution_count": null,
   "id": "3db3b307",
   "metadata": {},
   "outputs": [],
   "source": [
    "\n",
    "using PyPlot"
   ]
  },
  {
   "cell_type": "code",
   "execution_count": null,
   "id": "98a12266",
   "metadata": {},
   "outputs": [],
   "source": [
    "\n",
    "\"\"\"\n",
    "    res = mysimpsons(fun, a, b, n)\n",
    "\n",
    "Use Simpson's quadrature to evaluate the numerical value of the integral of a function \n",
    "of a single variable, `fun`, between the integration limits `a` and `b`, using `n` nodes.\n",
    "\"\"\"\n",
    "function mysimpsons(fun, a, b, n)\n",
    "# your code here\n",
    "    return NaN  # <- placeholder for a real return value\n",
    "end"
   ]
  },
  {
   "cell_type": "markdown",
   "id": "c2425c7c-be1e-4cd3-b496-67b7ea67f6d6",
   "metadata": {},
   "source": [
    "### Testing"
   ]
  },
  {
   "cell_type": "code",
   "execution_count": null,
   "id": "e4c30c88",
   "metadata": {},
   "outputs": [],
   "source": [
    "\n",
    "fun1(x) = exp(x)\n",
    "a1 = 0.0\n",
    "b1 = 1.0\n",
    "n1 = 11\n",
    "exact1 = exp(1) - 1.0\n",
    "mysimpsons(fun1, a1, b1, n1) - exact1"
   ]
  },
  {
   "cell_type": "code",
   "execution_count": null,
   "id": "62d6a52d",
   "metadata": {},
   "outputs": [],
   "source": [
    "\n",
    "fun2(x) = x^2\n",
    "a2 = 1.0\n",
    "b2 = 2.0\n",
    "n2 = 11\n",
    "exact2 = 7/3\n",
    "mysimpsons(fun2, a2, b2, n2) - exact2"
   ]
  },
  {
   "cell_type": "markdown",
   "id": "658e2fd7-a4a6-423d-8de6-bc4291d05d4f",
   "metadata": {},
   "source": [
    "### Performance"
   ]
  },
  {
   "cell_type": "code",
   "execution_count": null,
   "id": "ab951987-53aa-426f-a031-20c5280be907",
   "metadata": {},
   "outputs": [],
   "source": [
    "\n",
    "@time mysimpsons(fun1, a1, b1, n1);"
   ]
  },
  {
   "cell_type": "code",
   "execution_count": null,
   "id": "c57a4a45-61a5-4248-8b0f-2af6093b3ce0",
   "metadata": {},
   "outputs": [],
   "source": [
    "@time mysimpsons(fun2, a2, b2, n2);"
   ]
  },
  {
   "cell_type": "markdown",
   "id": "4142391d-a2ab-47c8-a52d-3f13384a15ac",
   "metadata": {},
   "source": [
    "### Accuracy of Simpson's formula"
   ]
  },
  {
   "cell_type": "code",
   "execution_count": null,
   "id": "0161ea9b",
   "metadata": {},
   "outputs": [],
   "source": [
    "\n",
    "fun(x) = sin(x)\n",
    "a = 0.0\n",
    "b = pi\n",
    "exact = 2.0\n",
    "ndp = 10\n",
    "abserr = zeros(ndp)\n",
    "hh = zeros(ndp);"
   ]
  },
  {
   "cell_type": "code",
   "execution_count": null,
   "id": "aea97c25",
   "metadata": {},
   "outputs": [],
   "source": [
    "\n",
    "for i = 1:ndp\n",
    "    n = 2^i + 1\n",
    "    hh[i] = your code here\n",
    "    abserr[i] = your code here\n",
    "end"
   ]
  },
  {
   "cell_type": "code",
   "execution_count": null,
   "id": "c985807c",
   "metadata": {},
   "outputs": [],
   "source": [
    "\n",
    "loglog(hh, abserr, marker=\".\", label=\"Simpson's\")\n",
    "loglog(hh, your code here, linestyle=\"dashed\", label=L\"your label here\")\n",
    "# add grid, axes labels, title, legend"
   ]
  },
  {
   "cell_type": "code",
   "execution_count": null,
   "id": "b4f850b7-ec93-439d-b974-16f516396c25",
   "metadata": {},
   "outputs": [],
   "source": []
  }
 ],
 "metadata": {
  "kernelspec": {
   "display_name": "Julia 1.11.6",
   "language": "julia",
   "name": "julia-1.11"
  },
  "language_info": {
   "file_extension": ".jl",
   "mimetype": "application/julia",
   "name": "julia",
   "version": "1.11.6"
  }
 },
 "nbformat": 4,
 "nbformat_minor": 5
}
